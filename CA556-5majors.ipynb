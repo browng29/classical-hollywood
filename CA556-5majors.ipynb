{
 "cells": [
  {
   "cell_type": "code",
   "execution_count": null,
   "id": "f0ebe544",
   "metadata": {},
   "outputs": [],
   "source": [
    "import pandas as pd # pandas helps with data manipulation\n",
    "import numpy as np # numpy helps does random number stuff\n",
    "import kagglehub # for downloading datasets from kaggle\n",
    "import os # for file path stuff"
   ]
  },
  {
   "cell_type": "code",
   "execution_count": null,
   "id": "72c375da",
   "metadata": {},
   "outputs": [
    {
     "name": "stdout",
     "output_type": "stream",
     "text": [
      "Warning: Looks like you're using an outdated `kagglehub` version (installed: 0.3.12), please consider upgrading to the latest version (0.3.13).\n",
      "Path to dataset files: /Users/minicarter/.cache/kagglehub/datasets/gsimonx37/letterboxd/versions/2\n"
     ]
    }
   ],
   "source": [
    "# Download latest version\n",
    "path = kagglehub.dataset_download(\"gsimonx37/letterboxd\")\n",
    "\n",
    "print(\"Path to dataset files:\", path)"
   ]
  },
  {
   "cell_type": "code",
   "execution_count": null,
   "id": "75a006b2",
   "metadata": {},
   "outputs": [
    {
     "name": "stdout",
     "output_type": "stream",
     "text": [
      "\n",
      "Head of posters.csv:\n",
      "        id                                               link\n",
      "0  1000001  https://a.ltrbxd.com/resized/film-poster/2/7/7...\n",
      "1  1000002  https://a.ltrbxd.com/resized/film-poster/4/2/6...\n",
      "2  1000003  https://a.ltrbxd.com/resized/film-poster/4/7/4...\n",
      "3  1000004  https://a.ltrbxd.com/resized/film-poster/5/1/5...\n",
      "4  1000005  https://a.ltrbxd.com/resized/film-poster/2/4/0...\n",
      "\n",
      "Head of countries.csv:\n",
      "        id      country\n",
      "0  1000001           UK\n",
      "1  1000001          USA\n",
      "2  1000002  South Korea\n",
      "3  1000003          USA\n",
      "4  1000004      Germany\n",
      "\n",
      "Head of releases.csv:\n",
      "        id    country        date        type rating\n",
      "0  1000001    Andorra  2023-07-21  Theatrical    NaN\n",
      "1  1000001  Argentina  2023-07-20  Theatrical    ATP\n",
      "2  1000001  Australia  2023-07-19  Theatrical     PG\n",
      "3  1000001  Australia  2023-10-01     Digital     PG\n",
      "4  1000001    Austria  2023-07-20  Theatrical    NaN\n",
      "\n",
      "Head of genres.csv:\n",
      "        id      genre\n",
      "0  1000001     Comedy\n",
      "1  1000001  Adventure\n",
      "2  1000002     Comedy\n",
      "3  1000002   Thriller\n",
      "4  1000002      Drama\n",
      "\n",
      "Head of actors.csv:\n",
      "        id               name    role\n",
      "0  1000001      Margot Robbie  Barbie\n",
      "1  1000001       Ryan Gosling     Ken\n",
      "2  1000001    America Ferrera  Gloria\n",
      "3  1000001  Ariana Greenblatt   Sasha\n",
      "4  1000001           Issa Rae  Barbie\n",
      "\n",
      "Head of studios.csv:\n",
      "        id                   studio\n",
      "0  1000001  LuckyChap Entertainment\n",
      "1  1000001             Heyday Films\n",
      "2  1000001           NB/GG Pictures\n",
      "3  1000001                   Mattel\n",
      "4  1000001    Warner Bros. Pictures\n",
      "\n",
      "Head of movies.csv:\n",
      "        id                               name    date  \\\n",
      "0  1000001                             Barbie  2023.0   \n",
      "1  1000002                           Parasite  2019.0   \n",
      "2  1000003  Everything Everywhere All at Once  2022.0   \n",
      "3  1000004                         Fight Club  1999.0   \n",
      "4  1000005                         La La Land  2016.0   \n",
      "\n",
      "                                            tagline  \\\n",
      "0                  She's everything. He's just Ken.   \n",
      "1                       Act like you own the place.   \n",
      "2  The universe is so much bigger than you realize.   \n",
      "3                           Mischief. Mayhem. Soap.   \n",
      "4                    Here's to the fools who dream.   \n",
      "\n",
      "                                         description  minute  rating  \n",
      "0  Barbie and Ken are having the time of their li...   114.0    3.86  \n",
      "1  All unemployed, Ki-taek's family takes peculia...   133.0    4.56  \n",
      "2  An aging Chinese immigrant is swept up in an i...   140.0    4.30  \n",
      "3  A ticking-time-bomb insomniac and a slippery s...   139.0    4.27  \n",
      "4  Mia, an aspiring actress, serves lattes to mov...   129.0    4.09  \n",
      "\n",
      "Head of languages.csv:\n",
      "        id              type language\n",
      "0  1000001          Language  English\n",
      "1  1000002  Primary language   Korean\n",
      "2  1000002   Spoken language  English\n",
      "3  1000002   Spoken language   German\n",
      "4  1000002   Spoken language   Korean\n",
      "\n",
      "Head of crew.csv:\n",
      "        id      role            name\n",
      "0  1000001  Director    Greta Gerwig\n",
      "1  1000001  Producer    Tom Ackerley\n",
      "2  1000001  Producer   Margot Robbie\n",
      "3  1000001  Producer  Robbie Brenner\n",
      "4  1000001  Producer    David Heyman\n",
      "\n",
      "Head of themes.csv:\n",
      "        id                                              theme\n",
      "0  1000001                   Humanity and the world around us\n",
      "1  1000001                             Crude humor and satire\n",
      "2  1000001                        Moving relationship stories\n",
      "3  1000001     Emotional and captivating fantasy storytelling\n",
      "4  1000001  Surreal and thought-provoking visions of life ...\n"
     ]
    }
   ],
   "source": [
    "# Use the existing 'path' variable from kagglehub\n",
    "csv_files = [file for file in os.listdir(path) if file.endswith(\".csv\")]\n",
    "\n",
    "# Read and display the head of each CSV file\n",
    "for file in csv_files:\n",
    "    file_path = os.path.join(path, file)\n",
    "    print(f\"\\nHead of {file}:\")\n",
    "    try:\n",
    "        df = pd.read_csv(file_path)\n",
    "        print(df.head())\n",
    "    except Exception as e:\n",
    "        print(f\"Error reading {file}: {e}\")"
   ]
  },
  {
   "cell_type": "code",
   "execution_count": null,
   "id": "d2eb7e63",
   "metadata": {},
   "outputs": [],
   "source": [
    "# putting data in dictionary for easier access \n",
    "letterboxd_data = {}\n",
    "\n",
    "for file in csv_files:\n",
    "    name = file.replace('.csv', '')\n",
    "    df = pd.read_csv('/Users/minicarter/.cache/kagglehub/datasets/gsimonx37/letterboxd/versions/2/{}'.format(file))\n",
    "    letterboxd_data[name] = df\n"
   ]
  },
  {
   "cell_type": "code",
   "execution_count": 13,
   "id": "cb97659b",
   "metadata": {},
   "outputs": [],
   "source": [
    "# getting data out of dictionary for said easier access\n",
    "movies = letterboxd_data['movies']\n",
    "actors = letterboxd_data['actors']\n",
    "crew = letterboxd_data['crew']\n",
    "languages = letterboxd_data['languages']\n",
    "studios = letterboxd_data['studios']\n",
    "countries = letterboxd_data['countries']\n",
    "genres = letterboxd_data['genres']\n",
    "themes = letterboxd_data['themes']\n",
    "releases = letterboxd_data['releases']"
   ]
  },
  {
   "cell_type": "code",
   "execution_count": null,
   "id": "f5080cb6",
   "metadata": {},
   "outputs": [
    {
     "data": {
      "text/html": [
       "<div>\n",
       "<style scoped>\n",
       "    .dataframe tbody tr th:only-of-type {\n",
       "        vertical-align: middle;\n",
       "    }\n",
       "\n",
       "    .dataframe tbody tr th {\n",
       "        vertical-align: top;\n",
       "    }\n",
       "\n",
       "    .dataframe thead th {\n",
       "        text-align: right;\n",
       "    }\n",
       "</style>\n",
       "<table border=\"1\" class=\"dataframe\">\n",
       "  <thead>\n",
       "    <tr style=\"text-align: right;\">\n",
       "      <th></th>\n",
       "      <th>id</th>\n",
       "      <th>studio</th>\n",
       "    </tr>\n",
       "  </thead>\n",
       "  <tbody>\n",
       "    <tr>\n",
       "      <th>0</th>\n",
       "      <td>1000001</td>\n",
       "      <td>[LuckyChap Entertainment, Heyday Films, NB/GG ...</td>\n",
       "    </tr>\n",
       "    <tr>\n",
       "      <th>1</th>\n",
       "      <td>1000002</td>\n",
       "      <td>[Barunson E&amp;A]</td>\n",
       "    </tr>\n",
       "    <tr>\n",
       "      <th>2</th>\n",
       "      <td>1000003</td>\n",
       "      <td>[IAC Films, AGBO, Ley Line Entertainment, Year...</td>\n",
       "    </tr>\n",
       "    <tr>\n",
       "      <th>3</th>\n",
       "      <td>1000004</td>\n",
       "      <td>[Fox 2000 Pictures, Regency Enterprises, The L...</td>\n",
       "    </tr>\n",
       "    <tr>\n",
       "      <th>4</th>\n",
       "      <td>1000005</td>\n",
       "      <td>[Summit Entertainment, Black Label Media, Gilb...</td>\n",
       "    </tr>\n",
       "    <tr>\n",
       "      <th>...</th>\n",
       "      <td>...</td>\n",
       "      <td>...</td>\n",
       "    </tr>\n",
       "    <tr>\n",
       "      <th>438192</th>\n",
       "      <td>1941538</td>\n",
       "      <td>[Helsinki-filmi]</td>\n",
       "    </tr>\n",
       "    <tr>\n",
       "      <th>438193</th>\n",
       "      <td>1941539</td>\n",
       "      <td>[Onza Entertainment]</td>\n",
       "    </tr>\n",
       "    <tr>\n",
       "      <th>438194</th>\n",
       "      <td>1941541</td>\n",
       "      <td>[Enlight Media]</td>\n",
       "    </tr>\n",
       "    <tr>\n",
       "      <th>438195</th>\n",
       "      <td>1941557</td>\n",
       "      <td>[滚石]</td>\n",
       "    </tr>\n",
       "    <tr>\n",
       "      <th>438196</th>\n",
       "      <td>1941596</td>\n",
       "      <td>[上海猫眼影业有限公司, 坏小子（北京）传媒有限公司, 亚太国影（重庆）文化传媒有限公司, ...</td>\n",
       "    </tr>\n",
       "  </tbody>\n",
       "</table>\n",
       "<p>438197 rows × 2 columns</p>\n",
       "</div>"
      ],
      "text/plain": [
       "             id                                             studio\n",
       "0       1000001  [LuckyChap Entertainment, Heyday Films, NB/GG ...\n",
       "1       1000002                                     [Barunson E&A]\n",
       "2       1000003  [IAC Films, AGBO, Ley Line Entertainment, Year...\n",
       "3       1000004  [Fox 2000 Pictures, Regency Enterprises, The L...\n",
       "4       1000005  [Summit Entertainment, Black Label Media, Gilb...\n",
       "...         ...                                                ...\n",
       "438192  1941538                                   [Helsinki-filmi]\n",
       "438193  1941539                               [Onza Entertainment]\n",
       "438194  1941541                                    [Enlight Media]\n",
       "438195  1941557                                               [滚石]\n",
       "438196  1941596  [上海猫眼影业有限公司, 坏小子（北京）传媒有限公司, 亚太国影（重庆）文化传媒有限公司, ...\n",
       "\n",
       "[438197 rows x 2 columns]"
      ]
     },
     "execution_count": 14,
     "metadata": {},
     "output_type": "execute_result"
    }
   ],
   "source": [
    "# merging studio information to movies so we can see sort by big 5 studios\n",
    "studio_new = pd.merge(movies, studios, left_on='id', right_on='id', how='inner').groupby(['id']).agg({'studio': list}).reset_index() # this line groups studios by movie id so we can see all studios for a given movie\n",
    "movies = pd.merge(movies, studio_new, left_on='id', right_on='id', how='inner')\n"
   ]
  },
  {
   "cell_type": "code",
   "execution_count": null,
   "id": "25abb83e",
   "metadata": {},
   "outputs": [],
   "source": [
    "# making a list of big five studios in the 1940s\n",
    "bigfive = [\"Warner Bros. Pictures\", \"Paramount Pictures\", \"20th Century Fox\", \"Metro-Goldwyn-Mayer\", \"RKO Radio Pictures\"]\n",
    "\n",
    "# creating a column that checks is the movie is from one of the big five studios\n",
    "movies['bigfive'] = movies['studio'].apply(lambda x: any(studio in bigfive for studio in x))\n",
    "\n",
    "\n",
    "movies_bigfive = movies[movies['bigfive']]\n",
    "\n",
    "movies_df = movies_bigfive[movies_bigfive['date'].between(1941, 1947)]\n"
   ]
  },
  {
   "cell_type": "code",
   "execution_count": 56,
   "id": "28b1d21a",
   "metadata": {},
   "outputs": [
    {
     "data": {
      "text/html": [
       "<div>\n",
       "<style scoped>\n",
       "    .dataframe tbody tr th:only-of-type {\n",
       "        vertical-align: middle;\n",
       "    }\n",
       "\n",
       "    .dataframe tbody tr th {\n",
       "        vertical-align: top;\n",
       "    }\n",
       "\n",
       "    .dataframe thead th {\n",
       "        text-align: right;\n",
       "    }\n",
       "</style>\n",
       "<table border=\"1\" class=\"dataframe\">\n",
       "  <thead>\n",
       "    <tr style=\"text-align: right;\">\n",
       "      <th></th>\n",
       "      <th>id</th>\n",
       "      <th>name_x</th>\n",
       "      <th>date</th>\n",
       "      <th>tagline</th>\n",
       "      <th>description</th>\n",
       "      <th>minute</th>\n",
       "      <th>rating</th>\n",
       "      <th>studio</th>\n",
       "      <th>bigfive</th>\n",
       "      <th>role</th>\n",
       "      <th>name_y</th>\n",
       "      <th>person_id</th>\n",
       "    </tr>\n",
       "  </thead>\n",
       "  <tbody>\n",
       "    <tr>\n",
       "      <th>0</th>\n",
       "      <td>1000361</td>\n",
       "      <td>Casablanca</td>\n",
       "      <td>1942.0</td>\n",
       "      <td>They had a date with fate in Casablanca!</td>\n",
       "      <td>In Casablanca, Morocco in December 1941, a cyn...</td>\n",
       "      <td>102.0</td>\n",
       "      <td>4.27</td>\n",
       "      <td>[Warner Bros. Pictures]</td>\n",
       "      <td>True</td>\n",
       "      <td>Director</td>\n",
       "      <td>Michael Curtiz</td>\n",
       "      <td>6819</td>\n",
       "    </tr>\n",
       "    <tr>\n",
       "      <th>1</th>\n",
       "      <td>1000361</td>\n",
       "      <td>Casablanca</td>\n",
       "      <td>1942.0</td>\n",
       "      <td>They had a date with fate in Casablanca!</td>\n",
       "      <td>In Casablanca, Morocco in December 1941, a cyn...</td>\n",
       "      <td>102.0</td>\n",
       "      <td>4.27</td>\n",
       "      <td>[Warner Bros. Pictures]</td>\n",
       "      <td>True</td>\n",
       "      <td>Producer</td>\n",
       "      <td>Hal B. Wallis</td>\n",
       "      <td>3735</td>\n",
       "    </tr>\n",
       "    <tr>\n",
       "      <th>2</th>\n",
       "      <td>1000361</td>\n",
       "      <td>Casablanca</td>\n",
       "      <td>1942.0</td>\n",
       "      <td>They had a date with fate in Casablanca!</td>\n",
       "      <td>In Casablanca, Morocco in December 1941, a cyn...</td>\n",
       "      <td>102.0</td>\n",
       "      <td>4.27</td>\n",
       "      <td>[Warner Bros. Pictures]</td>\n",
       "      <td>True</td>\n",
       "      <td>Writer</td>\n",
       "      <td>Julius J. Epstein</td>\n",
       "      <td>5578</td>\n",
       "    </tr>\n",
       "    <tr>\n",
       "      <th>3</th>\n",
       "      <td>1000361</td>\n",
       "      <td>Casablanca</td>\n",
       "      <td>1942.0</td>\n",
       "      <td>They had a date with fate in Casablanca!</td>\n",
       "      <td>In Casablanca, Morocco in December 1941, a cyn...</td>\n",
       "      <td>102.0</td>\n",
       "      <td>4.27</td>\n",
       "      <td>[Warner Bros. Pictures]</td>\n",
       "      <td>True</td>\n",
       "      <td>Writer</td>\n",
       "      <td>Philip G. Epstein</td>\n",
       "      <td>7598</td>\n",
       "    </tr>\n",
       "    <tr>\n",
       "      <th>4</th>\n",
       "      <td>1000361</td>\n",
       "      <td>Casablanca</td>\n",
       "      <td>1942.0</td>\n",
       "      <td>They had a date with fate in Casablanca!</td>\n",
       "      <td>In Casablanca, Morocco in December 1941, a cyn...</td>\n",
       "      <td>102.0</td>\n",
       "      <td>4.27</td>\n",
       "      <td>[Warner Bros. Pictures]</td>\n",
       "      <td>True</td>\n",
       "      <td>Writer</td>\n",
       "      <td>Howard Koch</td>\n",
       "      <td>4252</td>\n",
       "    </tr>\n",
       "  </tbody>\n",
       "</table>\n",
       "</div>"
      ],
      "text/plain": [
       "        id      name_x    date                                   tagline  \\\n",
       "0  1000361  Casablanca  1942.0  They had a date with fate in Casablanca!   \n",
       "1  1000361  Casablanca  1942.0  They had a date with fate in Casablanca!   \n",
       "2  1000361  Casablanca  1942.0  They had a date with fate in Casablanca!   \n",
       "3  1000361  Casablanca  1942.0  They had a date with fate in Casablanca!   \n",
       "4  1000361  Casablanca  1942.0  They had a date with fate in Casablanca!   \n",
       "\n",
       "                                         description  minute  rating  \\\n",
       "0  In Casablanca, Morocco in December 1941, a cyn...   102.0    4.27   \n",
       "1  In Casablanca, Morocco in December 1941, a cyn...   102.0    4.27   \n",
       "2  In Casablanca, Morocco in December 1941, a cyn...   102.0    4.27   \n",
       "3  In Casablanca, Morocco in December 1941, a cyn...   102.0    4.27   \n",
       "4  In Casablanca, Morocco in December 1941, a cyn...   102.0    4.27   \n",
       "\n",
       "                    studio  bigfive      role             name_y  person_id  \n",
       "0  [Warner Bros. Pictures]     True  Director     Michael Curtiz       6819  \n",
       "1  [Warner Bros. Pictures]     True  Producer      Hal B. Wallis       3735  \n",
       "2  [Warner Bros. Pictures]     True    Writer  Julius J. Epstein       5578  \n",
       "3  [Warner Bros. Pictures]     True    Writer  Philip G. Epstein       7598  \n",
       "4  [Warner Bros. Pictures]     True    Writer        Howard Koch       4252  "
      ]
     },
     "execution_count": 56,
     "metadata": {},
     "output_type": "execute_result"
    }
   ],
   "source": [
    "movieCrew = pd.merge(movies_df, crew, left_on='id', right_on='id', how='inner')\n",
    "movieActors = pd.merge(movies_df, actors, left_on='id', right_on='id', how='inner')\n",
    "movieActors['role'] = \"Actor\"\n",
    "\n",
    "workers = pd.concat([movieCrew, movieActors])\n",
    "\n",
    "workers['person_id'] = workers.groupby(['name_y', 'role']).ngroup()\n",
    "workers.head()\n",
    "\n"
   ]
  },
  {
   "cell_type": "code",
   "execution_count": 37,
   "id": "b38d4c41",
   "metadata": {},
   "outputs": [],
   "source": [
    "import itertools\n",
    "import networkx as nx\n",
    "import matplotlib.pyplot as plt\n",
    "from itertools import combinations"
   ]
  },
  {
   "cell_type": "markdown",
   "id": "61db2b8e",
   "metadata": {},
   "source": [
    "collaborative"
   ]
  },
  {
   "cell_type": "code",
   "execution_count": 57,
   "id": "fe55d94b",
   "metadata": {},
   "outputs": [],
   "source": [
    "G = nx.Graph()\n",
    "\n",
    "for movie, group in workers.groupby('id'):\n",
    "    names = group['person_id'].to_list()\n",
    "    for name1, name2 in combinations(names, 2):\n",
    "        if G.has_edge(name1, name2):\n",
    "            G[name1][name2]['weight'] += 1\n",
    "        else:\n",
    "            G.add_edge(name1, name2, weight=1)"
   ]
  },
  {
   "cell_type": "code",
   "execution_count": 58,
   "id": "209fca10",
   "metadata": {},
   "outputs": [
    {
     "name": "stdout",
     "output_type": "stream",
     "text": [
      "Nodes: 9723\n",
      "Edges: 857949\n"
     ]
    }
   ],
   "source": [
    "print(\"Nodes:\", G.number_of_nodes())\n",
    "print(\"Edges:\", G.number_of_edges())\n"
   ]
  },
  {
   "cell_type": "code",
   "execution_count": 69,
   "id": "129fec86",
   "metadata": {},
   "outputs": [],
   "source": [
    "workers_agg = workers.groupby('person_id').agg(\n",
    "    name=('name_y', 'first'),\n",
    "    role=('role','first'),\n",
    "    films=('name_x', lambda x: list(zip(x, workers.loc[x.index, 'date']))),\n",
    "    film_count=('name_x', 'count'),\n",
    "    studios=('studio', list)).reset_index().head()\n",
    "\n",
    "attr_dict = workers_agg.set_index('person_id').to_dict('index')\n",
    "nx.set_node_attributes(G, attr_dict)"
   ]
  },
  {
   "cell_type": "code",
   "execution_count": 72,
   "id": "15bdb56f",
   "metadata": {},
   "outputs": [
    {
     "name": "stdout",
     "output_type": "stream",
     "text": [
      "Nodes: 9723\n",
      "Edges: 857949\n",
      "Density: 0.0182\n",
      "Average degree: 176.48\n",
      "Connected components: 8\n"
     ]
    }
   ],
   "source": [
    "def graph_summary(G):\n",
    "    print(f\"Nodes: {G.number_of_nodes()}\")\n",
    "    print(f\"Edges: {G.number_of_edges()}\")\n",
    "    print(f\"Density: {nx.density(G):.4f}\")\n",
    "    print(f\"Average degree: {sum(d for _, d in G.degree()) / G.number_of_nodes():.2f}\")\n",
    "    print(f\"Connected components: {nx.number_connected_components(G)}\")\n",
    "\n",
    "graph_summary(G)\n",
    "\n",
    "\n",
    "\n"
   ]
  },
  {
   "cell_type": "code",
   "execution_count": 174,
   "id": "2ca9d78a",
   "metadata": {},
   "outputs": [
    {
     "name": "stdout",
     "output_type": "stream",
     "text": [
      "Removing 958 nodes with no strong connections\n",
      "Remaining nodes: 1694\n",
      "Remaining edges: 38915\n"
     ]
    }
   ],
   "source": [
    "nodes_to_remove = []\n",
    "\n",
    "for node in G.nodes():\n",
    "    # Get all weights of edges connected to this node\n",
    "    edge_weights = [d.get('weight', 1) for _, _, d in G.edges(node, data=True)]\n",
    "    # Default to 1 if 'weight' key is missing\n",
    "\n",
    "    # If every edge weight <= 1, mark for removal\n",
    "    if all(w <= 1 for w in edge_weights):\n",
    "        nodes_to_remove.append(node)\n",
    "\n",
    "print(f\"Removing {len(nodes_to_remove)} nodes with no strong connections\")\n",
    "G.remove_nodes_from(nodes_to_remove)\n",
    "\n",
    "print(f\"Remaining nodes: {G.number_of_nodes()}\")\n",
    "print(f\"Remaining edges: {G.number_of_edges()}\")"
   ]
  },
  {
   "cell_type": "code",
   "execution_count": 175,
   "id": "80e10bad",
   "metadata": {},
   "outputs": [],
   "source": [
    "from pyvis.network import Network\n",
    "\n",
    "G_vis = G.copy()\n",
    "\n",
    "net = Network(\n",
    "    height=\"750px\",\n",
    "    width=\"100%\",\n",
    "    notebook=False,\n",
    "    bgcolor=\"#222222\",\n",
    "    font_color=\"white\",\n",
    "    directed=False,\n",
    ")"
   ]
  },
  {
   "cell_type": "code",
   "execution_count": 176,
   "id": "9f4459f5",
   "metadata": {},
   "outputs": [],
   "source": [
    "# Node size = degree\n",
    "for node in G_vis.nodes():\n",
    "    G_vis.nodes[node]['size'] = 5 + 2 * G_vis.degree(node)\n",
    "    G_vis.nodes[node]['title'] = f\"{node} — degree: {G_vis.degree(node)}\"\n",
    "\n",
    "# Edge width = weight\n",
    "for u, v, d in G_vis.edges(data=True):\n",
    "    # Default to 1 if weight missing\n",
    "    d['width'] = d.get('weight', 1)\n",
    "    d['title'] = f\"Weight: {d.get('weight', 1)}\"\n"
   ]
  },
  {
   "cell_type": "code",
   "execution_count": 177,
   "id": "e05074ec",
   "metadata": {},
   "outputs": [],
   "source": [
    "net.barnes_hut(\n",
    "    gravity=-20000,\n",
    "    central_gravity=0.3,\n",
    "    spring_length=200,   # base spring length\n",
    "    spring_strength=0.05,\n",
    "    damping=0.8,\n",
    "    overlap=0\n",
    ")"
   ]
  },
  {
   "cell_type": "code",
   "execution_count": 178,
   "id": "1f905604",
   "metadata": {},
   "outputs": [],
   "source": [
    "for u, v, d in G_vis.edges(data=True):\n",
    "    weight = d.get('weight', 1)\n",
    "    # shorter spring for stronger weight\n",
    "    d['length'] = 200 / weight\n"
   ]
  },
  {
   "cell_type": "code",
   "execution_count": 179,
   "id": "ff2f4443",
   "metadata": {},
   "outputs": [],
   "source": [
    "net.from_nx(G_vis)\n"
   ]
  },
  {
   "cell_type": "code",
   "execution_count": 180,
   "id": "48bc9132",
   "metadata": {},
   "outputs": [],
   "source": [
    "net.show_buttons(filter_=['physics'])  # allows you to tweak physics interactively\n"
   ]
  },
  {
   "cell_type": "code",
   "execution_count": 181,
   "id": "8601c667",
   "metadata": {},
   "outputs": [],
   "source": [
    "\n",
    "net.write_html(\"collaboration_network.html\", open_browser=True)\n"
   ]
  },
  {
   "cell_type": "code",
   "execution_count": null,
   "id": "a9725de3",
   "metadata": {},
   "outputs": [],
   "source": [
    "# -----------------------------\n",
    "# PyVis Collaboration Graph\n",
    "# -----------------------------\n",
    "\n",
    "from pyvis.network import Network\n",
    "import networkx as nx\n",
    "\n",
    "# Make a copy of your filtered graph\n",
    "G_vis = G.copy()  # G should be your NetworkX graph\n",
    "\n",
    "# Step 1: Remove weak edges (weight <= 1)\n",
    "edges_to_remove = [(u, v) for u, v, d in G_vis.edges(data=True) if d.get('weight', 1) <= 1]\n",
    "G_vis.remove_edges_from(edges_to_remove)\n",
    "\n",
    "# Step 2: Remove nodes with no remaining edges\n",
    "nodes_to_remove = [n for n, d in G_vis.degree() if d == 0]\n",
    "G_vis.remove_nodes_from(nodes_to_remove)\n",
    "\n",
    "print(f\"Nodes remaining: {G_vis.number_of_nodes()}\")\n",
    "print(f\"Edges remaining: {G_vis.number_of_edges()}\")\n",
    "\n",
    "# Step 3: Encode node size by degree and edge width by weight\n",
    "for node in G_vis.nodes():\n",
    "    deg = G_vis.degree(node)\n",
    "    G_vis.nodes[node]['size'] = 5 + 2 * deg\n",
    "    G_vis.nodes[node]['title'] = f\"{node} — degree: {deg}\"\n",
    "\n",
    "for u, v, d in G_vis.edges(data=True):\n",
    "    weight = d.get('weight', 1)\n",
    "    d['width'] = 1 + weight       # edge thickness\n",
    "    d['title'] = f\"Weight: {weight}\"\n",
    "    d['length'] = 200 / weight    # shorter spring for stronger connections\n",
    "\n",
    "# Step 4: Initialize PyVis network\n",
    "net = Network(\n",
    "    height=\"750px\",\n",
    "    width=\"100%\",\n",
    "    notebook=False,      # <-- important for external browser\n",
    "    bgcolor=\"#222222\",\n",
    "    font_color=\"white\"\n",
    ")\n",
    "\n",
    "# Optional: improve physics simulation for weighted layout\n",
    "net.barnes_hut(\n",
    "    gravity=-20000,\n",
    "    central_gravity=0.3,\n",
    "    spring_length=200,\n",
    "    spring_strength=0.05,\n",
    "    damping=0.8,\n",
    "    overlap=0\n",
    ")\n",
    "\n",
    "# Step 5: Load graph into PyVis\n",
    "net.from_nx(G_vis)\n",
    "\n",
    "# Optional: show physics controls\n",
    "net.show_buttons(filter_=['physics'])\n",
    "\n",
    "# Step 6: Render in external browser\n",
    "net.show(\"collaboration_network.html\")\n"
   ]
  },
  {
   "cell_type": "code",
   "execution_count": 162,
   "id": "77853187",
   "metadata": {},
   "outputs": [],
   "source": [
    "\n",
    "pos = nx.spring_layout(G_core, k=0.3, seed=42)  # compute layout once\n",
    "\n",
    "for node, p in pos.items():\n",
    "    G_core.nodes[node]['x'] = p[0]*1000  # scale for PyVis\n",
    "    G_core.nodes[node]['y'] = p[1]*1000"
   ]
  },
  {
   "cell_type": "code",
   "execution_count": null,
   "id": "1455f6fe",
   "metadata": {},
   "outputs": [
    {
     "name": "stdout",
     "output_type": "stream",
     "text": [
      "fast_collab_graph.html\n"
     ]
    },
    {
     "ename": "AttributeError",
     "evalue": "'NoneType' object has no attribute 'render'",
     "output_type": "error",
     "traceback": [
      "\u001b[0;31m---------------------------------------------------------------------------\u001b[0m",
      "\u001b[0;31mAttributeError\u001b[0m                            Traceback (most recent call last)",
      "Cell \u001b[0;32mIn[163], line 3\u001b[0m\n\u001b[1;32m      1\u001b[0m net \u001b[38;5;241m=\u001b[39m Network(height\u001b[38;5;241m=\u001b[39m\u001b[38;5;124m\"\u001b[39m\u001b[38;5;124m750px\u001b[39m\u001b[38;5;124m\"\u001b[39m, width\u001b[38;5;241m=\u001b[39m\u001b[38;5;124m\"\u001b[39m\u001b[38;5;124m100\u001b[39m\u001b[38;5;124m%\u001b[39m\u001b[38;5;124m\"\u001b[39m, notebook\u001b[38;5;241m=\u001b[39m\u001b[38;5;28;01mFalse\u001b[39;00m, directed\u001b[38;5;241m=\u001b[39m\u001b[38;5;28;01mFalse\u001b[39;00m, bgcolor\u001b[38;5;241m=\u001b[39m\u001b[38;5;124m\"\u001b[39m\u001b[38;5;124m#222222\u001b[39m\u001b[38;5;124m\"\u001b[39m)\n\u001b[1;32m      2\u001b[0m net\u001b[38;5;241m.\u001b[39mfrom_nx(G_core)\n\u001b[0;32m----> 3\u001b[0m net\u001b[38;5;241m.\u001b[39mshow(\u001b[38;5;124m\"\u001b[39m\u001b[38;5;124mfast_collab_graph.html\u001b[39m\u001b[38;5;124m\"\u001b[39m)\n",
      "File \u001b[0;32m/opt/anaconda3/lib/python3.12/site-packages/pyvis/network.py:546\u001b[0m, in \u001b[0;36mNetwork.show\u001b[0;34m(self, name, local, notebook)\u001b[0m\n\u001b[1;32m    544\u001b[0m \u001b[38;5;28mprint\u001b[39m(name)\n\u001b[1;32m    545\u001b[0m \u001b[38;5;28;01mif\u001b[39;00m notebook:\n\u001b[0;32m--> 546\u001b[0m     \u001b[38;5;28mself\u001b[39m\u001b[38;5;241m.\u001b[39mwrite_html(name, open_browser\u001b[38;5;241m=\u001b[39m\u001b[38;5;28;01mFalse\u001b[39;00m,notebook\u001b[38;5;241m=\u001b[39m\u001b[38;5;28;01mTrue\u001b[39;00m)\n\u001b[1;32m    547\u001b[0m \u001b[38;5;28;01melse\u001b[39;00m:\n\u001b[1;32m    548\u001b[0m     \u001b[38;5;28mself\u001b[39m\u001b[38;5;241m.\u001b[39mwrite_html(name, open_browser\u001b[38;5;241m=\u001b[39m\u001b[38;5;28;01mTrue\u001b[39;00m)\n",
      "File \u001b[0;32m/opt/anaconda3/lib/python3.12/site-packages/pyvis/network.py:515\u001b[0m, in \u001b[0;36mNetwork.write_html\u001b[0;34m(self, name, local, notebook, open_browser)\u001b[0m\n\u001b[1;32m    513\u001b[0m getcwd_name \u001b[38;5;241m=\u001b[39m name\n\u001b[1;32m    514\u001b[0m check_html(getcwd_name)\n\u001b[0;32m--> 515\u001b[0m \u001b[38;5;28mself\u001b[39m\u001b[38;5;241m.\u001b[39mhtml \u001b[38;5;241m=\u001b[39m \u001b[38;5;28mself\u001b[39m\u001b[38;5;241m.\u001b[39mgenerate_html(notebook\u001b[38;5;241m=\u001b[39mnotebook)\n\u001b[1;32m    517\u001b[0m \u001b[38;5;28;01mif\u001b[39;00m \u001b[38;5;28mself\u001b[39m\u001b[38;5;241m.\u001b[39mcdn_resources \u001b[38;5;241m==\u001b[39m \u001b[38;5;124m\"\u001b[39m\u001b[38;5;124mlocal\u001b[39m\u001b[38;5;124m\"\u001b[39m:\n\u001b[1;32m    518\u001b[0m     \u001b[38;5;28;01mif\u001b[39;00m \u001b[38;5;129;01mnot\u001b[39;00m os\u001b[38;5;241m.\u001b[39mpath\u001b[38;5;241m.\u001b[39mexists(\u001b[38;5;124m\"\u001b[39m\u001b[38;5;124mlib\u001b[39m\u001b[38;5;124m\"\u001b[39m):\n",
      "File \u001b[0;32m/opt/anaconda3/lib/python3.12/site-packages/pyvis/network.py:479\u001b[0m, in \u001b[0;36mNetwork.generate_html\u001b[0;34m(self, name, local, notebook)\u001b[0m\n\u001b[1;32m    476\u001b[0m \u001b[38;5;28;01melse\u001b[39;00m:\n\u001b[1;32m    477\u001b[0m     physics_enabled \u001b[38;5;241m=\u001b[39m \u001b[38;5;28mself\u001b[39m\u001b[38;5;241m.\u001b[39moptions\u001b[38;5;241m.\u001b[39mphysics\u001b[38;5;241m.\u001b[39menabled\n\u001b[0;32m--> 479\u001b[0m \u001b[38;5;28mself\u001b[39m\u001b[38;5;241m.\u001b[39mhtml \u001b[38;5;241m=\u001b[39m template\u001b[38;5;241m.\u001b[39mrender(height\u001b[38;5;241m=\u001b[39mheight,\n\u001b[1;32m    480\u001b[0m                             width\u001b[38;5;241m=\u001b[39mwidth,\n\u001b[1;32m    481\u001b[0m                             nodes\u001b[38;5;241m=\u001b[39mnodes,\n\u001b[1;32m    482\u001b[0m                             edges\u001b[38;5;241m=\u001b[39medges,\n\u001b[1;32m    483\u001b[0m                             heading\u001b[38;5;241m=\u001b[39mheading,\n\u001b[1;32m    484\u001b[0m                             options\u001b[38;5;241m=\u001b[39moptions,\n\u001b[1;32m    485\u001b[0m                             physics_enabled\u001b[38;5;241m=\u001b[39mphysics_enabled,\n\u001b[1;32m    486\u001b[0m                             use_DOT\u001b[38;5;241m=\u001b[39m\u001b[38;5;28mself\u001b[39m\u001b[38;5;241m.\u001b[39muse_DOT,\n\u001b[1;32m    487\u001b[0m                             dot_lang\u001b[38;5;241m=\u001b[39m\u001b[38;5;28mself\u001b[39m\u001b[38;5;241m.\u001b[39mdot_lang,\n\u001b[1;32m    488\u001b[0m                             widget\u001b[38;5;241m=\u001b[39m\u001b[38;5;28mself\u001b[39m\u001b[38;5;241m.\u001b[39mwidget,\n\u001b[1;32m    489\u001b[0m                             bgcolor\u001b[38;5;241m=\u001b[39m\u001b[38;5;28mself\u001b[39m\u001b[38;5;241m.\u001b[39mbgcolor,\n\u001b[1;32m    490\u001b[0m                             conf\u001b[38;5;241m=\u001b[39m\u001b[38;5;28mself\u001b[39m\u001b[38;5;241m.\u001b[39mconf,\n\u001b[1;32m    491\u001b[0m                             tooltip_link\u001b[38;5;241m=\u001b[39muse_link_template,\n\u001b[1;32m    492\u001b[0m                             neighborhood_highlight\u001b[38;5;241m=\u001b[39m\u001b[38;5;28mself\u001b[39m\u001b[38;5;241m.\u001b[39mneighborhood_highlight,\n\u001b[1;32m    493\u001b[0m                             select_menu\u001b[38;5;241m=\u001b[39m\u001b[38;5;28mself\u001b[39m\u001b[38;5;241m.\u001b[39mselect_menu,\n\u001b[1;32m    494\u001b[0m                             filter_menu\u001b[38;5;241m=\u001b[39m\u001b[38;5;28mself\u001b[39m\u001b[38;5;241m.\u001b[39mfilter_menu,\n\u001b[1;32m    495\u001b[0m                             notebook\u001b[38;5;241m=\u001b[39mnotebook,\n\u001b[1;32m    496\u001b[0m                             cdn_resources\u001b[38;5;241m=\u001b[39m\u001b[38;5;28mself\u001b[39m\u001b[38;5;241m.\u001b[39mcdn_resources\n\u001b[1;32m    497\u001b[0m                             )\n\u001b[1;32m    498\u001b[0m \u001b[38;5;28;01mreturn\u001b[39;00m \u001b[38;5;28mself\u001b[39m\u001b[38;5;241m.\u001b[39mhtml\n",
      "\u001b[0;31mAttributeError\u001b[0m: 'NoneType' object has no attribute 'render'"
     ]
    }
   ],
   "source": [
    "net = Network(height=\"750px\", width=\"100%\", notebook=False, directed=False, bgcolor=\"#222222\")\n",
    "net.from_nx(G_core)"
   ]
  },
  {
   "cell_type": "code",
   "execution_count": 165,
   "id": "bd85c88c",
   "metadata": {},
   "outputs": [],
   "source": [
    "net.write_html(\"fast_collab_graph.html\", open_browser=True)\n"
   ]
  },
  {
   "cell_type": "code",
   "execution_count": 76,
   "id": "f5282006",
   "metadata": {},
   "outputs": [],
   "source": [
    "for n, d in G.nodes(data=True):\n",
    "    for k, v in d.items():\n",
    "        # If the value is a list, dict, or tuple, convert to string\n",
    "        if isinstance(v, (list, dict, tuple)):\n",
    "            d[k] = str(v)\n",
    "\n",
    "\n",
    "nx.write_gexf(G, \"collaboration_network.gexf\")"
   ]
  }
 ],
 "metadata": {
  "kernelspec": {
   "display_name": "base",
   "language": "python",
   "name": "python3"
  },
  "language_info": {
   "codemirror_mode": {
    "name": "ipython",
    "version": 3
   },
   "file_extension": ".py",
   "mimetype": "text/x-python",
   "name": "python",
   "nbconvert_exporter": "python",
   "pygments_lexer": "ipython3",
   "version": "3.12.7"
  }
 },
 "nbformat": 4,
 "nbformat_minor": 5
}
